{
  "nbformat": 4,
  "nbformat_minor": 0,
  "metadata": {
    "colab": {
      "provenance": []
    },
    "kernelspec": {
      "name": "python3",
      "display_name": "Python 3"
    },
    "language_info": {
      "name": "python"
    }
  },
  "cells": [
    {
      "cell_type": "code",
      "execution_count": null,
      "metadata": {
        "id": "U3FSG2wlGBkS"
      },
      "outputs": [],
      "source": [
        "#Q.1 Abstraction is used to hide the internal functionality of the function from the users. The users only interact with the basic implementation of the function, but inner working is hidden. User is familiar with that \"what function does\" but they don't know \"how it does.\""
      ]
    },
    {
      "cell_type": "code",
      "source": [
        "import abc\n",
        "class pw:\n",
        "  @abc.abstractmethod\n",
        "  def test_class1(self):\n",
        "    pass\n",
        "  @abc.abstractmethod\n",
        "  def test_class2(self):\n",
        "    pass\n",
        "  def t_class(self):\n",
        "    print(\"what's up\")"
      ],
      "metadata": {
        "id": "a1KRHg0UG2h4"
      },
      "execution_count": 50,
      "outputs": []
    },
    {
      "cell_type": "code",
      "source": [
        "class test1(pw):\n",
        "\n",
        "  def test_class1(self):\n",
        "    print(\"this is class 1\")\n",
        "\n",
        "  def test_class2(self):\n",
        "    print(\"this is class 2\")\n",
        "\n",
        "  def t_class(self):\n",
        "       print(\"how are you\")\n"
      ],
      "metadata": {
        "id": "l5uoVE9EYmO7"
      },
      "execution_count": 52,
      "outputs": []
    },
    {
      "cell_type": "code",
      "source": [
        "class test2(pw):\n",
        "\n",
        "  def test_class1(self):\n",
        "    print(\"data of class 1\")\n",
        "\n",
        "  def test_class2(slef):\n",
        "    print(\"data of class 2\")\n",
        "\n",
        "  def t_class(self):\n",
        "    print(\"who are you\")"
      ],
      "metadata": {
        "id": "lLELS9iSYs8T"
      },
      "execution_count": 53,
      "outputs": []
    },
    {
      "cell_type": "code",
      "source": [
        "t4=test1()\n",
        "t4.test_class1()\n"
      ],
      "metadata": {
        "colab": {
          "base_uri": "https://localhost:8080/"
        },
        "id": "h87sAA4XegX7",
        "outputId": "e1baa9ab-8514-4477-ad65-36d6b508e825"
      },
      "execution_count": 55,
      "outputs": [
        {
          "output_type": "stream",
          "name": "stdout",
          "text": [
            "this is class 1\n"
          ]
        }
      ]
    },
    {
      "cell_type": "code",
      "source": [
        "t1=test1()\n",
        "t1.test_class2()\n"
      ],
      "metadata": {
        "colab": {
          "base_uri": "https://localhost:8080/"
        },
        "id": "Nyx8I80aY9XC",
        "outputId": "4ca1d30a-c43e-4439-c5ff-a0e7a0653e73"
      },
      "execution_count": 56,
      "outputs": [
        {
          "output_type": "stream",
          "name": "stdout",
          "text": [
            "this is class 2\n"
          ]
        }
      ]
    },
    {
      "cell_type": "code",
      "source": [
        "testing=test1()\n",
        "testing.t_class()\n"
      ],
      "metadata": {
        "colab": {
          "base_uri": "https://localhost:8080/"
        },
        "id": "wM0Judsub3Ni",
        "outputId": "382c44d3-ea50-485a-aba9-25d27e1a81a9"
      },
      "execution_count": 54,
      "outputs": [
        {
          "output_type": "stream",
          "name": "stdout",
          "text": [
            "how are you\n"
          ]
        }
      ]
    },
    {
      "cell_type": "code",
      "source": [
        "tree=test2()\n",
        "tree.t_class()"
      ],
      "metadata": {
        "colab": {
          "base_uri": "https://localhost:8080/"
        },
        "id": "2gZVpI4mcdUj",
        "outputId": "ffda4ba5-7b28-4028-ab2c-2a69c42df631"
      },
      "execution_count": 34,
      "outputs": [
        {
          "output_type": "stream",
          "name": "stdout",
          "text": [
            "who are you\n"
          ]
        }
      ]
    },
    {
      "cell_type": "code",
      "source": [
        "t2=test2()\n",
        "t2.test_class1()\n"
      ],
      "metadata": {
        "colab": {
          "base_uri": "https://localhost:8080/"
        },
        "id": "aKjQa2mVZ5YG",
        "outputId": "55ab9959-aac3-4f2d-fad7-c522edde211f"
      },
      "execution_count": 15,
      "outputs": [
        {
          "output_type": "stream",
          "name": "stdout",
          "text": [
            "data of class 1\n"
          ]
        }
      ]
    },
    {
      "cell_type": "code",
      "source": [
        "#Q.2\n",
        "\"\"\" 1. Abstraction is the process or method of gaining the information.\tWhile encapsulation is the process or method to contain the information.\n",
        "    2. In abstraction, problems are solved at the design or interface level.\tWhile in encapsulation, problems are solved at the implementation level.\n",
        "    3.Abstraction is the method of hiding the unwanted information.\tWhereas encapsulation is a method to hide the data in a single entity or unit along with a method to protect information from outside.\n",
        "    4.We can implement abstraction using abstract class and interfaces.\tWhereas encapsulation can be implemented using by access modifier i.e. private, protected and public.\n",
        "    5.In abstraction, implementation complexities are hidden using abstract classes and interfaces.\tWhile in encapsulation, the data is hidden using methods of getters and setters.\n",
        "    6.The objects that help to perform abstraction are encapsulated.\tWhereas the objects that result in encapsulation need not be abstracted.\n",
        "    7.Abstraction provides access to specific part of data.\tEncapsulation hides data and the user can not access same directly (data hiding.\n",
        "    8.Abstraction focus is on “what” should be done.\tEncapsulation focus is on “How” it should be done."
      ],
      "metadata": {
        "id": "4cqWe0dXllFX"
      },
      "execution_count": null,
      "outputs": []
    },
    {
      "cell_type": "code",
      "source": [
        "import abc\n",
        "class pw:\n",
        "      def __init__(self,name,stu_id,account_no):#Implementing Encapsulation\n",
        "          self.name=name\n",
        "          self.stu_id=stu_id\n",
        "          self.__account_no=account_no\n",
        "\n",
        "      def set_acc_no(self,account_no):\n",
        "          self.__account_no=account_no\n",
        "\n",
        "      @abc.abstractmethod   #Implementing abstraction\n",
        "      def get_acc_no(self):\n",
        "         return self.__account_no"
      ],
      "metadata": {
        "id": "E-vjr106n8GU"
      },
      "execution_count": 88,
      "outputs": []
    },
    {
      "cell_type": "code",
      "source": [
        "p=pw(\"nancy\",145,1234567)\n",
        "p.account_no"
      ],
      "metadata": {
        "colab": {
          "base_uri": "https://localhost:8080/",
          "height": 183
        },
        "id": "yrUnUlIXsG-j",
        "outputId": "06006ace-b101-4f1a-f2d9-9b9cbfca132b"
      },
      "execution_count": 89,
      "outputs": [
        {
          "output_type": "error",
          "ename": "AttributeError",
          "evalue": "ignored",
          "traceback": [
            "\u001b[0;31m---------------------------------------------------------------------------\u001b[0m",
            "\u001b[0;31mAttributeError\u001b[0m                            Traceback (most recent call last)",
            "\u001b[0;32m<ipython-input-89-1912342605da>\u001b[0m in \u001b[0;36m<cell line: 2>\u001b[0;34m()\u001b[0m\n\u001b[1;32m      1\u001b[0m \u001b[0mp\u001b[0m\u001b[0;34m=\u001b[0m\u001b[0mpw\u001b[0m\u001b[0;34m(\u001b[0m\u001b[0;34m\"nancy\"\u001b[0m\u001b[0;34m,\u001b[0m\u001b[0;36m145\u001b[0m\u001b[0;34m,\u001b[0m\u001b[0;36m1234567\u001b[0m\u001b[0;34m)\u001b[0m\u001b[0;34m\u001b[0m\u001b[0;34m\u001b[0m\u001b[0m\n\u001b[0;32m----> 2\u001b[0;31m \u001b[0mp\u001b[0m\u001b[0;34m.\u001b[0m\u001b[0maccount_no\u001b[0m\u001b[0;34m\u001b[0m\u001b[0;34m\u001b[0m\u001b[0m\n\u001b[0m",
            "\u001b[0;31mAttributeError\u001b[0m: 'pw' object has no attribute 'account_no'"
          ]
        }
      ]
    },
    {
      "cell_type": "code",
      "source": [
        "p._pw__account_no"
      ],
      "metadata": {
        "colab": {
          "base_uri": "https://localhost:8080/"
        },
        "id": "JDtrlMbFtGDg",
        "outputId": "29065854-c810-4d9d-8e77-0859d4e8de3a"
      },
      "execution_count": 81,
      "outputs": [
        {
          "output_type": "execute_result",
          "data": {
            "text/plain": [
              "1234567"
            ]
          },
          "metadata": {},
          "execution_count": 81
        }
      ]
    },
    {
      "cell_type": "code",
      "source": [
        "p.set_acc_no(9999999)\n",
        "p.get_acc_no()"
      ],
      "metadata": {
        "colab": {
          "base_uri": "https://localhost:8080/"
        },
        "id": "9aLk9UmXtMS6",
        "outputId": "db6b47c6-930a-417c-aea1-7dc719a3cfa8"
      },
      "execution_count": 91,
      "outputs": [
        {
          "output_type": "execute_result",
          "data": {
            "text/plain": [
              "9999999"
            ]
          },
          "metadata": {},
          "execution_count": 91
        }
      ]
    },
    {
      "cell_type": "code",
      "source": [
        "class pw1(pw):\n",
        "\n",
        "  def get_acc_no(self):\n",
        "    return account_no"
      ],
      "metadata": {
        "id": "mGG9llXaqJBR"
      },
      "execution_count": 95,
      "outputs": []
    },
    {
      "cell_type": "code",
      "source": [
        "obj=pw1(\"mahima\",123,23456)\n",
        "obj.get_acc_no=9876"
      ],
      "metadata": {
        "id": "3-i4WTVTrole"
      },
      "execution_count": 96,
      "outputs": []
    },
    {
      "cell_type": "code",
      "source": [
        "obj.get_acc_no"
      ],
      "metadata": {
        "colab": {
          "base_uri": "https://localhost:8080/"
        },
        "id": "oJs68NQkrwYl",
        "outputId": "fe160f5a-c144-4edd-e502-833cc3268595"
      },
      "execution_count": 97,
      "outputs": [
        {
          "output_type": "execute_result",
          "data": {
            "text/plain": [
              "9876"
            ]
          },
          "metadata": {},
          "execution_count": 97
        }
      ]
    },
    {
      "cell_type": "code",
      "source": [
        "# Q.3 The 'abc' module in Python library provides the infrastructure for defining custom abstract base classes. 'abc' works by marking methods of the base class as abstract. This is done by @absttractmethod decorator.abstract base classes provide a blueprint for concrete classes. They don't contain implementation instead, they provide an interface and make sure that derived concrete classes are properly implemented."
      ],
      "metadata": {
        "id": "APKIiSu5sDdH"
      },
      "execution_count": null,
      "outputs": []
    },
    {
      "cell_type": "code",
      "source": [
        "#Q.4 We can achieve data abstraction through Abstract classes and interfaces. Through abstract classes, you can achieve partial or complete abstraction as abstract classes contain methods that have an implementation which can result in partial abstraction. On the other hand, interfaces allow complete abstraction since these allow users to abstract the implementation completely."
      ],
      "metadata": {
        "id": "_A9B0iRRwoag"
      },
      "execution_count": null,
      "outputs": []
    },
    {
      "cell_type": "code",
      "source": [
        "#Q.5 No, we cannot create instance of abstract classes ie it cannot be instantiate."
      ],
      "metadata": {
        "id": "33I55bJwxCte"
      },
      "execution_count": null,
      "outputs": []
    },
    {
      "cell_type": "code",
      "source": [
        "from abc import ABC,abstractmethod\n",
        "class pwskills(ABC):#this is an abstract class, made by using abc module\n",
        "   @abstractmethod\n",
        "   def test(self):\n",
        "     pass"
      ],
      "metadata": {
        "id": "2bmvLRt6ixrD"
      },
      "execution_count": 52,
      "outputs": []
    },
    {
      "cell_type": "code",
      "source": [
        "p=pwskills()# here we are not able to craete an instance of our abstract class so Abstract classes can only be used via inheritance and their concrete child classes have to provide an implementation for all the abstract methods.\n"
      ],
      "metadata": {
        "colab": {
          "base_uri": "https://localhost:8080/",
          "height": 165
        },
        "id": "CKzmKEzKkq5y",
        "outputId": "2148a294-b10e-45ca-e1f0-2798b4c1af1a"
      },
      "execution_count": 53,
      "outputs": [
        {
          "output_type": "error",
          "ename": "TypeError",
          "evalue": "ignored",
          "traceback": [
            "\u001b[0;31m---------------------------------------------------------------------------\u001b[0m",
            "\u001b[0;31mTypeError\u001b[0m                                 Traceback (most recent call last)",
            "\u001b[0;32m<ipython-input-53-9c732bcd0f51>\u001b[0m in \u001b[0;36m<cell line: 1>\u001b[0;34m()\u001b[0m\n\u001b[0;32m----> 1\u001b[0;31m \u001b[0mp\u001b[0m\u001b[0;34m=\u001b[0m\u001b[0mpwskills\u001b[0m\u001b[0;34m(\u001b[0m\u001b[0;34m)\u001b[0m\u001b[0;34m\u001b[0m\u001b[0;34m\u001b[0m\u001b[0m\n\u001b[0m",
            "\u001b[0;31mTypeError\u001b[0m: Can't instantiate abstract class pwskills with abstract method test"
          ]
        }
      ]
    },
    {
      "cell_type": "code",
      "source": [
        "class pwskills1(pwskills):\n",
        "  def test(self):\n",
        "    print(\"i am pwskills1\")"
      ],
      "metadata": {
        "id": "vO4rJBhWvDod"
      },
      "execution_count": 54,
      "outputs": []
    },
    {
      "cell_type": "code",
      "source": [
        "pw=pwskills1()# here I can create instance of class which inherits an abstract class.\n",
        "pw.test()"
      ],
      "metadata": {
        "colab": {
          "base_uri": "https://localhost:8080/"
        },
        "id": "lKm4zj0DvbUN",
        "outputId": "2a1f5e91-cda6-4155-f41d-cc78d4ce382b"
      },
      "execution_count": 56,
      "outputs": [
        {
          "output_type": "stream",
          "name": "stdout",
          "text": [
            "i am pwskills1\n"
          ]
        }
      ]
    },
    {
      "cell_type": "code",
      "source": [],
      "metadata": {
        "id": "xVZqsvHUviOD"
      },
      "execution_count": null,
      "outputs": []
    }
  ]
}